{
 "cells": [
  {
   "cell_type": "markdown",
   "id": "cb477d51",
   "metadata": {},
   "source": [
    "# Task1"
   ]
  },
  {
   "cell_type": "code",
   "execution_count": 1,
   "id": "339a9128",
   "metadata": {},
   "outputs": [
    {
     "data": {
      "text/plain": [
       "13192"
      ]
     },
     "execution_count": 1,
     "metadata": {},
     "output_type": "execute_result"
    }
   ],
   "source": [
    "import json \n",
    "data = []\n",
    "l= [5,4,3,2,1]\n",
    "for i in l:  \n",
    "    file_path = f'./data/datajson/geoLondonSep2022_{i}.json'\n",
    "    with open(file_path, 'r', encoding='utf-8') as file:\n",
    "        data += json.load(file)\n",
    "len(data)"
   ]
  },
  {
   "cell_type": "code",
   "execution_count": 2,
   "id": "3dd83534",
   "metadata": {
    "scrolled": true
   },
   "outputs": [
    {
     "name": "stdout",
     "output_type": "stream",
     "text": [
      "{'_id': 1574488568986320898, 'date': {'$date': '2022-09-26T19:58:22Z'}, 'screen_name': 'Leothebeekeeper', 'qualityScore': 0.609359681372549, 'text': \"I came across @thatcherscider #cloudylemon #cider hmmm I'm two minds about this... I'd describe it as a dessert cider sweet alittle like #limoncello # # # #zingy #refreshing @ London, United Kingdom https://t.co/EwQuimrzJl\", 'url': 'https://t.co/GsULBNtvKN', 'description': 'Leo The Beekeeper  📍London,UK Urban \\n🐝Beekeeper+🍯Entrepreneur 🍴Foodie + 👞🎩Style + Life = lifestyle  \\n📸 Instagram \\n\\nDM for Collaboration/Inquires', 'listed_count': 0, 'user_created': {'$date': '2018-04-30T12:37:29Z'}, 'geo_enabled': True, 'favourites_count': 248, 'coordinates': [-0.1094, 51.5141], 'location': 'London, England', 'followers_count': 115, ' friends_count': 115, 'place_name': 'City of London, London', 'place_country': 'United Kingdom', 'country_code': 'GB', 'place_coordinates': [[[-0.112442, 51.5068], [-0.0733794, 51.5068], [-0.0733794, 51.522161], [-0.112442, 51.522161]]], 'hashtags': ['cloudylemon', 'cider', 'limoncello', 'zingy', 'refreshing'], 'mentions': ['thatcherscider'], 'source': 'Instagram'}\n",
      "-------------------------------------------------\n",
      "dict_keys(['_id', 'date', 'screen_name', 'qualityScore', 'text', 'url', 'description', 'listed_count', 'user_created', 'geo_enabled', 'favourites_count', 'coordinates', 'location', 'followers_count', ' friends_count', 'place_name', 'place_country', 'country_code', 'place_coordinates', 'hashtags', 'mentions', 'source'])\n"
     ]
    }
   ],
   "source": [
    "print(data[0])\n",
    "print(\"-------------------------------------------------\")\n",
    "print(data[0].keys())"
   ]
  },
  {
   "cell_type": "code",
   "execution_count": 3,
   "id": "2d678628",
   "metadata": {
    "scrolled": false
   },
   "outputs": [
    {
     "name": "stdout",
     "output_type": "stream",
     "text": [
      "number of rows is: 59\n",
      "number of columns is: 48\n",
      "number of grids is: 2832\n"
     ]
    },
    {
     "data": {
      "image/png": "[encoded data removed]",
      "text/plain": [
       "<Figure size 432x288 with 2 Axes>"
      ]
     },
     "metadata": {
      "needs_background": "light"
     },
     "output_type": "display_data"
    },
    {
     "name": "stdout",
     "output_type": "stream",
     "text": [
      "Total number of tweets: 13192\n",
      "Maximum number of tweets in a single cell: 4404\n",
      "Minimum number of tweets in a single cell: 1\n"
     ]
    },
    {
     "data": {
      "image/png": "[encoded data removed]",
      "text/plain": [
       "<Figure size 432x288 with 1 Axes>"
      ]
     },
     "metadata": {
      "needs_background": "light"
     },
     "output_type": "display_data"
    }
   ],
   "source": [
    "import numpy as np\n",
    "import math\n",
    "import seaborn as sns\n",
    "import matplotlib.pyplot as plt\n",
    "\n",
    "# Define the coordinates for the bounding box of London\n",
    "london_bounding_coords = [-0.563, 51.261318, 0.28036, 51.686031]\n",
    "\n",
    "# Create a function to calculate the distance between two coordinates\n",
    "# Haversine function definition\n",
    "def haversine(coord1, coord2):\n",
    "    # Earth radius in km\n",
    "    R = 6373.0\n",
    "    lat1, lon1 = coord1\n",
    "    lat2, lon2 = coord2\n",
    "\n",
    "    phi1 = np.radians(lat1)\n",
    "    phi2 = np.radians(lat2)\n",
    "    delta_phi = np.radians(lat2 - lat1)\n",
    "    delta_lambda = np.radians(lon2 - lon1)\n",
    "\n",
    "    a = np.sin(delta_phi / 2.0) ** 2 + np.cos(phi1) * np.cos(phi2) * np.sin(delta_lambda / 2.0) ** 2\n",
    "    c = 2 * np.arctan2(np.sqrt(a), np.sqrt(1 - a))\n",
    "\n",
    "    return R * c\n",
    "\n",
    "# Function to calculate the grid points based on the bounding coordinates and grid size\n",
    "def calculate_grid_points(bounding_coords, grid_size_km = 1):\n",
    "    # Calculate the number of points needed based on the grid size\n",
    "    num_lon_points = int(haversine([bounding_coords[1], bounding_coords[0]], [bounding_coords[3], bounding_coords[0]]) / grid_size_km)\n",
    "    num_lat_points = int(haversine([bounding_coords[1], bounding_coords[0]], [bounding_coords[1], bounding_coords[2]]) / grid_size_km)\n",
    "\n",
    "    \n",
    "    # Generate the grid points\n",
    "    lon_points = np.linspace(bounding_coords[0], bounding_coords[2], num_lon_points + 1)\n",
    "    lat_points = np.linspace(bounding_coords[1], bounding_coords[3], num_lat_points + 1)\n",
    "    \n",
    "    return lon_points, lat_points\n",
    "\n",
    "# Calculate the grid points\n",
    "lon_points, lat_points = calculate_grid_points(london_bounding_coords)\n",
    "# Create a grid matrix to hold the count of tweets\n",
    "grid_matrix = np.zeros((len(lat_points), len(lon_points)))\n",
    "print(f'number of rows is: {len(lat_points)}')\n",
    "print(f'number of columns is: {len(lon_points)}')\n",
    "print(f'number of grids is: {int(len(lat_points) * len(lon_points))}')\n",
    "# Function to find the grid index for a given coordinate\n",
    "def get_grid_index(coord):\n",
    "    lon, lat = coord\n",
    "    lon_idx = np.searchsorted(lon_points, lon, side='right') - 1\n",
    "    lat_idx = np.searchsorted(lat_points, lat, side='right') - 1\n",
    "    return lat_idx, lon_idx\n",
    "\n",
    "# Read the tweets and organize them into the grid\n",
    "tweet_counts = {}\n",
    "for da in data:\n",
    "    if da.get('geo_enabled', False):\n",
    "        coord = da['coordinates']\n",
    "        grid_index = get_grid_index(coord)\n",
    "        if grid_index in tweet_counts:\n",
    "            tweet_counts[grid_index] += 1\n",
    "        else:\n",
    "            tweet_counts[grid_index] = 1\n",
    "        grid_matrix[grid_index] += 1\n",
    "# Now we have tweet counts per grid cell, let's visualize it with a heatmap\n",
    "sns.heatmap(grid_matrix, vmax=50, vmin=0)\n",
    "plt.show()\n",
    "\n",
    "# We can also calculate and print some basic statistics\n",
    "total_tweets = sum(tweet_counts.values())\n",
    "max_tweets_in_cell = max(tweet_counts.values())\n",
    "min_tweets_in_cell = min(tweet_counts.values())\n",
    "\n",
    "print(f\"Total number of tweets: {total_tweets}\")\n",
    "print(f\"Maximum number of tweets in a single cell: {max_tweets_in_cell}\")\n",
    "print(f\"Minimum number of tweets in a single cell: {min_tweets_in_cell}\")\n",
    "\n",
    "# To further analyze the data, we can plot a histogram of tweets per grid cell\n",
    "plt.hist(tweet_counts.values(), bins=50)\n",
    "plt.title('Histogram of tweets per grid cell')\n",
    "plt.xlabel('Number of tweets')\n",
    "plt.ylabel('Number of cells')\n",
    "plt.show()"
   ]
  },
  {
   "cell_type": "code",
   "execution_count": 4,
   "id": "1f20ada9",
   "metadata": {},
   "outputs": [
    {
     "data": {
      "image/png": "[encoded data removed]",
      "text/plain": [
       "<Figure size 432x288 with 1 Axes>"
      ]
     },
     "metadata": {
      "needs_background": "light"
     },
     "output_type": "display_data"
    },
    {
     "name": "stdout",
     "output_type": "stream",
     "text": [
      "The highest point in the histogram represents 168.0 cells.\n"
     ]
    }
   ],
   "source": [
    "n, bins, patches = plt.hist(tweet_counts.values(), bins=50)\n",
    "plt.title('Histogram of tweets per grid cell')\n",
    "plt.xlabel('Number of tweets')\n",
    "plt.ylabel('Number of cells')\n",
    "plt.show()\n",
    "\n",
    "max_count = n.max()  # Get the maximum value of the histogram bins\n",
    "print(f\"The highest point in the histogram represents {max_count} cells.\")\n"
   ]
  },
  {
   "cell_type": "markdown",
   "id": "8f093362",
   "metadata": {},
   "source": [
    "# Task2"
   ]
  },
  {
   "cell_type": "code",
   "execution_count": 5,
   "id": "dfe6f7fc",
   "metadata": {},
   "outputs": [
    {
     "name": "stdout",
     "output_type": "stream",
     "text": [
      "2501 {'_id': {'$oid': '623cb1491fdfc2cfea3b85c4'}, 'username': 'miguel_zavalaa', 'description': '•Mind with no sense in it•   •Stay away from me ‘cause I’m dancing to quite a different drumbeat•', 'qualityS': 0.6081996434937612, 'text': 'Turisteando (@ Piccadilly Circus in London, Greater London) https://t.co/ear25pmZNc https://t.co/528VOdxIeF'}\n",
      "1527 {'_id': {'$oid': '623dbef7462d56a90e36b221'}, 'username': 'tobythereactive', 'description': \"IG: The_Champagne_Shepherd Model ☀ Influencer ☀ Don't like people\", 'qualityS': 0.4662280701754386, 'text': 'Just posted a photo @ London, United Kingdom https://t.co/YZWvowLCj2'}\n",
      "2239 {'_id': '1613006911946776576', 'text': ['confidence', 'dont', 'fix', 'lost', 'need', 'negative', 'playing', 'right', 'support', 'well'], 'score': 0.6367300158372926}\n"
     ]
    }
   ],
   "source": [
    "from collections import Counter\n",
    "import spacy\n",
    "with open('data/credModelFiles/highQuality.json', 'r',encoding='utf-8') as f:\n",
    "    Highdata = []\n",
    "    for line in f.readlines():\n",
    "        Highdata.append(json.loads(line))\n",
    "print(len(Highdata),Highdata[0])\n",
    "with open('data/credModelFiles/lowQuality.json', 'r',encoding='utf-8') as f:\n",
    "    Lowdata = []\n",
    "    for line in f.readlines():\n",
    "        Lowdata.append(json.loads(line))\n",
    "print(len(Lowdata),Lowdata[0])\n",
    "with open('data/credModelFiles/bgQuality.json', 'r',encoding='utf-8') as f:\n",
    "    bgdata = []\n",
    "    for line in f.readlines():\n",
    "        bgdata.append(json.loads(line))\n",
    "print(len(bgdata),bgdata[0])"
   ]
  },
  {
   "cell_type": "code",
   "execution_count": 6,
   "id": "d0a01fda",
   "metadata": {},
   "outputs": [
    {
     "name": "stdout",
     "output_type": "stream",
     "text": [
      "2501 1527 2239\n"
     ]
    },
    {
     "data": {
      "text/plain": [
       "('Turisteando (@ Piccadilly Circus in London, Greater London) https://t.co/ear25pmZNc https://t.co/528VOdxIeF',\n",
       " 'Just posted a photo @ London, United Kingdom https://t.co/YZWvowLCj2',\n",
       " ['confidence',\n",
       "  'dont',\n",
       "  'fix',\n",
       "  'lost',\n",
       "  'need',\n",
       "  'negative',\n",
       "  'playing',\n",
       "  'right',\n",
       "  'support',\n",
       "  'well'])"
      ]
     },
     "execution_count": 6,
     "metadata": {},
     "output_type": "execute_result"
    }
   ],
   "source": [
    "hq_tweets_text = []\n",
    "lq_tweets_text = []\n",
    "bg_tweets_text = []\n",
    "for tweet in Highdata:\n",
    "    hq_tweets_text.append(tweet.get('text'))\n",
    "for tweet in Lowdata:\n",
    "    lq_tweets_text.append(tweet.get('text'))\n",
    "for tweet in bgdata:\n",
    "    bg_tweets_text.append(tweet.get('text'))\n",
    "\n",
    "print(len(hq_tweets_text),len(lq_tweets_text),len(bg_tweets_text))\n",
    "hq_tweets_text[0],lq_tweets_text[0],bg_tweets_text[0]"
   ]
  },
  {
   "cell_type": "code",
   "execution_count": 7,
   "id": "20ebf4fd",
   "metadata": {},
   "outputs": [
    {
     "name": "stderr",
     "output_type": "stream",
     "text": [
      "[nltk_data] Downloading package punkt to\n",
      "[nltk_data]     C:\\Users\\99264\\AppData\\Roaming\\nltk_data...\n",
      "[nltk_data]   Package punkt is already up-to-date!\n",
      "[nltk_data] Downloading package wordnet to\n",
      "[nltk_data]     C:\\Users\\99264\\AppData\\Roaming\\nltk_data...\n",
      "[nltk_data]   Package wordnet is already up-to-date!\n",
      "[nltk_data] Downloading package stopwords to\n",
      "[nltk_data]     C:\\Users\\99264\\AppData\\Roaming\\nltk_data...\n",
      "[nltk_data]   Package stopwords is already up-to-date!\n"
     ]
    },
    {
     "name": "stdout",
     "output_type": "stream",
     "text": [
      "[('london', 1565), ('kingdom', 729), ('united', 673), ('photo', 271), ('posted', 262), ('greater', 175), ('new', 128), ('amp', 112), ('day', 105), ('england', 102)]\n",
      "F_Hq: 24125 F_Bg: 28392 F_Lq: 15523\n",
      "total number of data: 2239\n",
      "high quality: 786\n"
     ]
    }
   ],
   "source": [
    "from collections import Counter\n",
    "import re\n",
    "import nltk\n",
    "from nltk.corpus import stopwords\n",
    "from nltk.tokenize import word_tokenize\n",
    "from nltk.stem import WordNetLemmatizer\n",
    "\n",
    "# Make sure to download the necessary NLTK data\n",
    "nltk.download('punkt')\n",
    "nltk.download('wordnet')\n",
    "nltk.download('stopwords')\n",
    "\n",
    "stop_words = set(stopwords.words('english'))\n",
    "class NWScore:\n",
    "\n",
    "    def __init__(self, hq_set: list, lq_set: list,bg_set: list,tweets = None):\n",
    "        self.lemmatizer = WordNetLemmatizer()\n",
    "        self.hq_set = hq_set\n",
    "        self.lq_set = lq_set\n",
    "        self.bg_set = bg_set\n",
    "        self.ScoreModel(tweets)\n",
    "\n",
    "    def ScoreModel(self,tweets):\n",
    "        self.hq_word_count, self.F_HQ = self.GetWordCount(self.hq_set)\n",
    "        self.lq_word_count, self.F_LQ = self.GetWordCount(self.lq_set)\n",
    "        self.bg_word_count, self.F_BG = self.GetWordCount(self.bg_set)\n",
    "        self.CNTD(tweets)\n",
    "        \n",
    "#     def text_pipeline_spacy(self,text):\n",
    "#         tokens = []\n",
    "#         doc = nlp(text)\n",
    "#         for t in doc:\n",
    "#             if not t.is_stop and  not t.is_punct and  not t.is_space and  not t.like_url: #remove stop word, url, whitespace character, punctuation mark\n",
    "#                 tokens.append(t.lemma_.lower())\n",
    "#         return tokens\n",
    "\n",
    "    def text_pipeline(self, text):\n",
    "        # Lowercase the text\n",
    "        text = text.lower()\n",
    "        # Remove URLs\n",
    "        text = re.sub(r'https?://\\S+|www\\.\\S+', '', text)\n",
    "        # Tokenize the text\n",
    "        tokens = word_tokenize(text)\n",
    "        # Remove stop words and punctuation, and lemmatize the tokens\n",
    "        tokens = [\n",
    "            self.lemmatizer.lemmatize(token) for token in tokens\n",
    "            if token.isalpha() and token not in stop_words\n",
    "        ]\n",
    "        return tokens\n",
    "\n",
    "#     def preprocess(self,tweets):\n",
    "#         if type(tweets[0]) == list:\n",
    "#             return tweets\n",
    "#         return [self.text_pipeline_spacy(x) for x in tweets]\n",
    "\n",
    "    def preprocess(self, tweets):\n",
    "        # Check if the first element of tweets is a list (assuming all elements are of the same type)\n",
    "        if isinstance(tweets[0], list):\n",
    "            # If it is a list, assume tweets is a list of list of tokens\n",
    "            return tweets\n",
    "        # Otherwise, assume tweets is a list of strings to be tokenized\n",
    "        return [self.text_pipeline(tweet) for tweet in tweets]\n",
    "    \n",
    "    def GetWordCount(self,tweets):\n",
    "        data_words = self.preprocess(tweets)\n",
    "        total_length = sum(len(inner_list) for inner_list in data_words)\n",
    "        counter = Counter()\n",
    "        for tweet in data_words:\n",
    "            words = tweet\n",
    "            for word in words:\n",
    "                if word != '️':\n",
    "                    counter[word] += 1\n",
    "        return counter, total_length\n",
    "\n",
    "    def CNTD(self,tweets):\n",
    "        self.data_list = []\n",
    "        if tweets == None:\n",
    "            return \n",
    "        data_words = self.preprocess(tweets)\n",
    "        for tweet in data_words:\n",
    "            self.my_list = []\n",
    "            sht = 0\n",
    "            slt = 0\n",
    "            for term in tweet:\n",
    "                my_dict = {}\n",
    "#                 my_dict['text'] = tweet\n",
    "                my_dict['term'] = term\n",
    "                if term in self.hq_word_count.keys():\n",
    "                    tfthq = self.hq_word_count[term]\n",
    "                else:\n",
    "                    tfthq = 1\n",
    "                my_dict['tfthq'] = tfthq\n",
    "                if term in self.lq_word_count.keys():\n",
    "                    tftlq = self.lq_word_count[term]\n",
    "                else:\n",
    "                    tftlq = 1\n",
    "                my_dict['tftlq'] = tftlq\n",
    "                if term in self.bg_word_count.keys():\n",
    "                    tftbq = self.bg_word_count[term]\n",
    "                else:\n",
    "                    tftbq = 1\n",
    "                my_dict['tftbq'] = tftbq\n",
    "                rhqt = (tfthq / self.F_HQ) / (tftbq / self.F_BG)\n",
    "                rlqt = (tftlq / self.F_LQ) / (tftbq / self.F_BG)\n",
    "                my_dict['rhqt'] = rhqt\n",
    "                my_dict['rlqt'] = rlqt\n",
    "                if rhqt >= 2.0:\n",
    "                    shqt = rhqt\n",
    "                else:\n",
    "                    shqt = 0\n",
    "                my_dict['shqt'] = shqt\n",
    "                sht += shqt\n",
    "                if rlqt >= 2.0:\n",
    "                    slqt = rlqt\n",
    "                else:\n",
    "                    slqt = 0 \n",
    "                my_dict['slqt'] = slqt\n",
    "                slt += slqt\n",
    "                self.my_list.append(my_dict)\n",
    "            nscore = np.log2((1+sht) / (1+slt))\n",
    "            self.my_list.append(nscore)\n",
    "            self.data_list.append(self.my_list)\n",
    "            \n",
    "    def GetScore(self):\n",
    "        self.scorelist = []\n",
    "        for sample in self.data_list:\n",
    "            self.scorelist.append(sample[-1])\n",
    "        return self.scorelist\n",
    "    \n",
    "s = NWScore(hq_tweets_text,lq_tweets_text,bg_tweets_text,bg_tweets_text)\n",
    "print(s.hq_word_count.most_common(10))\n",
    "print(\"F_Hq:\",s.F_HQ,\"F_Bg:\",s.F_BG,\"F_Lq:\",s.F_LQ)\n",
    "score = s.GetScore()\n",
    "count = 0\n",
    "for i in score:\n",
    "    if i > 0:\n",
    "        count+=1\n",
    "print(\"total number of data:\",len(score))\n",
    "print(\"high quality:\",count)"
   ]
  },
  {
   "cell_type": "code",
   "execution_count": 9,
   "id": "f4aceb1b",
   "metadata": {},
   "outputs": [
    {
     "name": "stdout",
     "output_type": "stream",
     "text": [
      "the most common term in high data [('london', 1565), ('kingdom', 729), ('united', 673), ('photo', 271), ('posted', 262), ('greater', 175), ('new', 128), ('amp', 112), ('day', 105), ('england', 102)]\n",
      "the most common term in low data [('mohammed', 856), ('nasser', 791), ('imam', 724), ('almahdicaliphofallah', 706), ('london', 635), ('kingdom', 558), ('united', 516), ('photo', 458), ('posted', 456), ('allaah', 400)]\n",
      "the most common term in bg data [('new', 211), ('york', 143), ('london', 132), ('like', 130), ('people', 116), ('city', 106), ('manchester', 97), ('time', 94), ('one', 91), ('england', 88)]\n",
      "total number of data: 2501 1527 2239\n"
     ]
    }
   ],
   "source": [
    "s = NWScore(hq_tweets_text,lq_tweets_text,bg_tweets_text,bg_tweets_text)\n",
    "print(\"the most common term in high data\", s.hq_word_count.most_common(10))\n",
    "print(\"the most common term in low data\", s.lq_word_count.most_common(10))\n",
    "print(\"the most common term in bg data\", s.bg_word_count.most_common(10))\n",
    "\n",
    "print(\"total number of data:\",len(hq_tweets_text),len(lq_tweets_text),len(bg_tweets_text))"
   ]
  },
  {
   "cell_type": "code",
   "execution_count": 8,
   "id": "6ad7e1e4",
   "metadata": {},
   "outputs": [
    {
     "name": "stdout",
     "output_type": "stream",
     "text": [
      "total number of data: 2501\n",
      "high quality: 1648\n"
     ]
    }
   ],
   "source": [
    "high = NWScore(hq_tweets_text,lq_tweets_text,bg_tweets_text,hq_tweets_text)\n",
    "score = high.GetScore()\n",
    "count = 0\n",
    "for i in score:\n",
    "    if i > 0:\n",
    "        count+=1\n",
    "print(\"total number of data:\",len(score))\n",
    "print(\"high quality:\",count)"
   ]
  },
  {
   "cell_type": "code",
   "execution_count": 9,
   "id": "76bf8913",
   "metadata": {},
   "outputs": [
    {
     "name": "stdout",
     "output_type": "stream",
     "text": [
      "total number of data: 1527\n",
      "high quality: 83\n"
     ]
    }
   ],
   "source": [
    "low = NWScore(hq_tweets_text,lq_tweets_text,bg_tweets_text,lq_tweets_text)\n",
    "score = low.GetScore()\n",
    "count = 0\n",
    "for i in score:\n",
    "    if i > 0:\n",
    "        count+=1\n",
    "print(\"total number of data:\",len(score))\n",
    "print(\"high quality:\",count)"
   ]
  },
  {
   "cell_type": "code",
   "execution_count": 10,
   "id": "b399c23c",
   "metadata": {},
   "outputs": [
    {
     "name": "stdout",
     "output_type": "stream",
     "text": [
      "total number of data: 2239\n",
      "high quality: 786\n"
     ]
    }
   ],
   "source": [
    "bg = NWScore(hq_tweets_text,lq_tweets_text,bg_tweets_text,bg_tweets_text)\n",
    "score = bg.GetScore()\n",
    "count = 0\n",
    "for i in score:\n",
    "    if i > 0:\n",
    "        count+=1\n",
    "print(\"total number of data:\",len(score))\n",
    "print(\"high quality:\",count)"
   ]
  },
  {
   "cell_type": "markdown",
   "id": "7d947094",
   "metadata": {},
   "source": [
    "# Task3"
   ]
  },
  {
   "cell_type": "code",
   "execution_count": 11,
   "id": "60f920a6",
   "metadata": {},
   "outputs": [
    {
     "name": "stdout",
     "output_type": "stream",
     "text": [
      "I came across @thatcherscider #cloudylemon #cider hmmm I'm two minds about this... I'd describe it as a dessert cider sweet alittle like #limoncello # # # #zingy #refreshing @ London, United Kingdom https://t.co/EwQuimrzJl\n",
      "total number of data: 13192\n"
     ]
    }
   ],
   "source": [
    "texts = []\n",
    "for sample in data:\n",
    "    texts.append(sample['text'])\n",
    "print(texts[0])\n",
    "print(\"total number of data:\",len(texts))"
   ]
  },
  {
   "cell_type": "code",
   "execution_count": 12,
   "id": "db6f3cb8",
   "metadata": {},
   "outputs": [
    {
     "name": "stdout",
     "output_type": "stream",
     "text": [
      "[('london', 1565), ('kingdom', 729), ('united', 673), ('photo', 271), ('posted', 262), ('greater', 175), ('new', 128), ('amp', 112), ('day', 105), ('england', 102)]\n",
      "F_Hq: 24125 F_Bg: 28392 F_Lq: 15523\n"
     ]
    }
   ],
   "source": [
    "geo = NWScore(hq_tweets_text,lq_tweets_text,bg_tweets_text,texts)\n",
    "print(geo.hq_word_count.most_common(10))\n",
    "print(\"F_Hq:\",geo.F_HQ,\"F_Bg:\",geo.F_BG,\"F_Lq:\",geo.F_LQ)"
   ]
  },
  {
   "cell_type": "code",
   "execution_count": 13,
   "id": "8795b8be",
   "metadata": {},
   "outputs": [],
   "source": [
    "score = geo.GetScore()\n",
    "count_high = 0\n",
    "count_zero = 0\n",
    "for i in score:\n",
    "    if i > 0:\n",
    "        count_high+=1\n",
    "    elif i == 0:\n",
    "        count_zero += 1"
   ]
  },
  {
   "cell_type": "code",
   "execution_count": 14,
   "id": "9ed421c7",
   "metadata": {},
   "outputs": [
    {
     "name": "stdout",
     "output_type": "stream",
     "text": [
      "total number of data: 13192\n",
      "The number of high quality: 5298\n",
      "The number remove is: 7716\n",
      "The number of bg: 178\n"
     ]
    }
   ],
   "source": [
    "print(\"total number of data:\",len(score))\n",
    "print(\"The number of high quality:\",count_high)\n",
    "print(\"The number remove is:\",len(score) - count_high - count_zero)\n",
    "print(\"The number of bg:\", count_zero)"
   ]
  },
  {
   "cell_type": "code",
   "execution_count": 15,
   "id": "90fa6d0e",
   "metadata": {},
   "outputs": [
    {
     "name": "stdout",
     "output_type": "stream",
     "text": [
      "5298\n"
     ]
    }
   ],
   "source": [
    "positive_indices = [index for index, number in enumerate(score) if number > 0]\n",
    "print(len(positive_indices))\n",
    "positive_tweets_path = './data/positive_tweets.json'\n",
    "def write_specific_lines(data, indices,positive_tweets_path):\n",
    "    # Read the original data line by line and collect the lines with the specified indices\n",
    "    lines_to_write = []\n",
    "    for i, line in enumerate(data):\n",
    "        if i in indices:\n",
    "            lines_to_write.append(line)\n",
    "    \n",
    "    # Write the collected lines to the new file\n",
    "    with open(positive_tweets_path, 'w', encoding='utf-8') as file:\n",
    "        json.dump(lines_to_write, file, ensure_ascii=False, indent=4)\n",
    "\n",
    "write_specific_lines(data, positive_indices, positive_tweets_path)"
   ]
  },
  {
   "cell_type": "code",
   "execution_count": 27,
   "id": "96751c8d",
   "metadata": {},
   "outputs": [
    {
     "data": {
      "text/plain": [
       "[{'term': 'came',\n",
       "  'tfthq': 1,\n",
       "  'tftlq': 1,\n",
       "  'tftbq': 2,\n",
       "  'rhqt': 0.5884352331606219,\n",
       "  'rlqt': 0.9145139470463184,\n",
       "  'shqt': 0,\n",
       "  'slqt': 0},\n",
       " {'term': 'across',\n",
       "  'tfthq': 1,\n",
       "  'tftlq': 1,\n",
       "  'tftbq': 16,\n",
       "  'rhqt': 0.07355440414507773,\n",
       "  'rlqt': 0.1143142433807898,\n",
       "  'shqt': 0,\n",
       "  'slqt': 0},\n",
       " {'term': 'thatcherscider',\n",
       "  'tfthq': 1,\n",
       "  'tftlq': 1,\n",
       "  'tftbq': 1,\n",
       "  'rhqt': 1.1768704663212437,\n",
       "  'rlqt': 1.8290278940926368,\n",
       "  'shqt': 0,\n",
       "  'slqt': 0},\n",
       " {'term': 'cloudylemon',\n",
       "  'tfthq': 1,\n",
       "  'tftlq': 1,\n",
       "  'tftbq': 1,\n",
       "  'rhqt': 1.1768704663212437,\n",
       "  'rlqt': 1.8290278940926368,\n",
       "  'shqt': 0,\n",
       "  'slqt': 0},\n",
       " {'term': 'cider',\n",
       "  'tfthq': 1,\n",
       "  'tftlq': 1,\n",
       "  'tftbq': 1,\n",
       "  'rhqt': 1.1768704663212437,\n",
       "  'rlqt': 1.8290278940926368,\n",
       "  'shqt': 0,\n",
       "  'slqt': 0},\n",
       " {'term': 'hmmm',\n",
       "  'tfthq': 1,\n",
       "  'tftlq': 1,\n",
       "  'tftbq': 1,\n",
       "  'rhqt': 1.1768704663212437,\n",
       "  'rlqt': 1.8290278940926368,\n",
       "  'shqt': 0,\n",
       "  'slqt': 0},\n",
       " {'term': 'two',\n",
       "  'tfthq': 13,\n",
       "  'tftlq': 2,\n",
       "  'tftbq': 28,\n",
       "  'rhqt': 0.5464041450777202,\n",
       "  'rlqt': 0.13064484957804545,\n",
       "  'shqt': 0,\n",
       "  'slqt': 0},\n",
       " {'term': 'mind',\n",
       "  'tfthq': 3,\n",
       "  'tftlq': 31,\n",
       "  'tftbq': 10,\n",
       "  'rhqt': 0.3530611398963731,\n",
       "  'rlqt': 5.669986471687174,\n",
       "  'shqt': 0,\n",
       "  'slqt': 5.669986471687174},\n",
       " {'term': 'describe',\n",
       "  'tfthq': 1,\n",
       "  'tftlq': 1,\n",
       "  'tftbq': 1,\n",
       "  'rhqt': 1.1768704663212437,\n",
       "  'rlqt': 1.8290278940926368,\n",
       "  'shqt': 0,\n",
       "  'slqt': 0},\n",
       " {'term': 'dessert',\n",
       "  'tfthq': 1,\n",
       "  'tftlq': 1,\n",
       "  'tftbq': 1,\n",
       "  'rhqt': 1.1768704663212437,\n",
       "  'rlqt': 1.8290278940926368,\n",
       "  'shqt': 0,\n",
       "  'slqt': 0},\n",
       " {'term': 'cider',\n",
       "  'tfthq': 1,\n",
       "  'tftlq': 1,\n",
       "  'tftbq': 1,\n",
       "  'rhqt': 1.1768704663212437,\n",
       "  'rlqt': 1.8290278940926368,\n",
       "  'shqt': 0,\n",
       "  'slqt': 0},\n",
       " {'term': 'sweet',\n",
       "  'tfthq': 11,\n",
       "  'tftlq': 1,\n",
       "  'tftbq': 1,\n",
       "  'rhqt': 12.94557512953368,\n",
       "  'rlqt': 1.8290278940926368,\n",
       "  'shqt': 12.94557512953368,\n",
       "  'slqt': 0},\n",
       " {'term': 'alittle',\n",
       "  'tfthq': 1,\n",
       "  'tftlq': 1,\n",
       "  'tftbq': 1,\n",
       "  'rhqt': 1.1768704663212437,\n",
       "  'rlqt': 1.8290278940926368,\n",
       "  'shqt': 0,\n",
       "  'slqt': 0},\n",
       " {'term': 'like',\n",
       "  'tfthq': 60,\n",
       "  'tftlq': 71,\n",
       "  'tftbq': 130,\n",
       "  'rhqt': 0.5431709844559585,\n",
       "  'rlqt': 0.998930619081363,\n",
       "  'shqt': 0,\n",
       "  'slqt': 0},\n",
       " {'term': 'limoncello',\n",
       "  'tfthq': 1,\n",
       "  'tftlq': 1,\n",
       "  'tftbq': 1,\n",
       "  'rhqt': 1.1768704663212437,\n",
       "  'rlqt': 1.8290278940926368,\n",
       "  'shqt': 0,\n",
       "  'slqt': 0},\n",
       " {'term': 'zingy',\n",
       "  'tfthq': 1,\n",
       "  'tftlq': 1,\n",
       "  'tftbq': 1,\n",
       "  'rhqt': 1.1768704663212437,\n",
       "  'rlqt': 1.8290278940926368,\n",
       "  'shqt': 0,\n",
       "  'slqt': 0},\n",
       " {'term': 'refreshing',\n",
       "  'tfthq': 1,\n",
       "  'tftlq': 1,\n",
       "  'tftbq': 1,\n",
       "  'rhqt': 1.1768704663212437,\n",
       "  'rlqt': 1.8290278940926368,\n",
       "  'shqt': 0,\n",
       "  'slqt': 0},\n",
       " {'term': 'london',\n",
       "  'tfthq': 1565,\n",
       "  'tftlq': 635,\n",
       "  'tftbq': 132,\n",
       "  'rhqt': 13.95304757418747,\n",
       "  'rlqt': 8.798732672339579,\n",
       "  'shqt': 13.95304757418747,\n",
       "  'slqt': 8.798732672339579},\n",
       " {'term': 'united',\n",
       "  'tfthq': 673,\n",
       "  'tftlq': 516,\n",
       "  'tftbq': 36,\n",
       "  'rhqt': 22.000939550949912,\n",
       "  'rlqt': 26.21606648199446,\n",
       "  'shqt': 22.000939550949912,\n",
       "  'slqt': 26.21606648199446},\n",
       " {'term': 'kingdom',\n",
       "  'tfthq': 729,\n",
       "  'tftlq': 558,\n",
       "  'tftbq': 9,\n",
       "  'rhqt': 95.32650777202073,\n",
       "  'rlqt': 113.39972943374349,\n",
       "  'shqt': 95.32650777202073,\n",
       "  'slqt': 113.39972943374349},\n",
       " -0.09475418309316355]"
      ]
     },
     "execution_count": 27,
     "metadata": {},
     "output_type": "execute_result"
    }
   ],
   "source": [
    "geo.data_list[0]"
   ]
  },
  {
   "cell_type": "code",
   "execution_count": 17,
   "id": "0c9bf78e",
   "metadata": {},
   "outputs": [
    {
     "name": "stdout",
     "output_type": "stream",
     "text": [
      "sorted index: [10613  8671  5646 ...  1216  1201  1207]\n",
      "sorted score: [-4.91955205 -4.34962682 -4.34962682 ...  7.46283896  7.46283896\n",
      "  7.46283896]\n",
      "the index positive: 7894\n",
      "the index negative: 7716\n",
      "average score in positive: 2.167708041892816\n",
      "average score in negative: -0.7562690788116231\n",
      "the index of high quality: 10629\n",
      "the index of low quality: 2675\n",
      "[4115 9377 4738 ... 1216 1201 1207]\n",
      "[10613  8671  5646 ...  8930  7117 11023]\n"
     ]
    }
   ],
   "source": [
    "score = geo.GetScore()\n",
    "\n",
    "score_array = np.array(score)\n",
    "sorted_indices = np.argsort(score_array)\n",
    "sorted_scores = score_array[sorted_indices]\n",
    "\n",
    "\n",
    "print(\"sorted index:\", sorted_indices)\n",
    "print(\"sorted score:\", sorted_scores)\n",
    "\n",
    "for i,j in enumerate(sorted_scores):\n",
    "    if j >0:\n",
    "        positive_index = i\n",
    "        print(\"the index positive:\",i)\n",
    "        break\n",
    "for i,j in enumerate(sorted_scores):\n",
    "    if j ==0:\n",
    "        negative_index = i\n",
    "        print(\"the index negative:\",i)\n",
    "        break\n",
    "\n",
    "ave_p = sum(sorted_scores[positive_index:])/(len(sorted_scores)-positive_index)\n",
    "ave_n = sum(sorted_scores[0:negative_index])/negative_index\n",
    "print(\"average score in positive:\", ave_p)\n",
    "print(\"average score in negative:\", ave_n)\n",
    "\n",
    "for i,j in enumerate(sorted_scores):\n",
    "    if j >ave_p:\n",
    "        print(\"the index of high quality:\",i)\n",
    "        break\n",
    "for i,j in enumerate(sorted_scores):\n",
    "    if j >ave_n:\n",
    "        print(\"the index of low quality:\",i)\n",
    "        break\n",
    "        \n",
    "indices_positive = sorted_indices[10629:]\n",
    "print(indices_positive)\n",
    "indices_negative = sorted_indices[0:2675]\n",
    "print(indices_negative)"
   ]
  },
  {
   "cell_type": "code",
   "execution_count": 18,
   "id": "e5940f1c",
   "metadata": {},
   "outputs": [],
   "source": [
    "positive_tweets_path = './data/temp_negative.json'\n",
    "def write_specific_lines(data, indices,positive_tweets_path):\n",
    "    # Read the original data line by line and collect the lines with the specified indices\n",
    "    lines_to_write = []\n",
    "    for i, line in enumerate(data):\n",
    "        if i in indices:\n",
    "            lines_to_write.append(line)\n",
    "    \n",
    "    # Write the collected lines to the new file\n",
    "    with open(positive_tweets_path, 'w', encoding='utf-8') as file:\n",
    "        json.dump(lines_to_write, file, ensure_ascii=False, indent=4)\n",
    "\n",
    "write_specific_lines(data, indices_negative, positive_tweets_path)"
   ]
  },
  {
   "cell_type": "code",
   "execution_count": 19,
   "id": "da0dde36",
   "metadata": {},
   "outputs": [],
   "source": [
    "positive_tweets_path = './data/temp_positive.json'\n",
    "def write_specific_lines(data, indices,positive_tweets_path):\n",
    "    # Read the original data line by line and collect the lines with the specified indices\n",
    "    lines_to_write = []\n",
    "    for i, line in enumerate(data):\n",
    "        if i in indices:\n",
    "            lines_to_write.append(line)\n",
    "    \n",
    "    # Write the collected lines to the new file\n",
    "    with open(positive_tweets_path, 'w', encoding='utf-8') as file:\n",
    "        json.dump(lines_to_write, file, ensure_ascii=False, indent=4)\n",
    "\n",
    "write_specific_lines(data, indices_positive, positive_tweets_path)"
   ]
  },
  {
   "cell_type": "code",
   "execution_count": 20,
   "id": "a1b5dd7e",
   "metadata": {},
   "outputs": [
    {
     "name": "stdout",
     "output_type": "stream",
     "text": [
      "total number of data: 13192\n",
      "The number of high quality: 2563\n",
      "The number remove is: 2675\n",
      "The number of bg: 7954\n"
     ]
    }
   ],
   "source": [
    "print(\"total number of data:\",len(score))\n",
    "print(\"The number of high quality:\",len(indices_positive))\n",
    "print(\"The number remove is:\",len(indices_negative))\n",
    "print(\"The number of bg:\", len(score) - len(indices_positive) - len(indices_negative))"
   ]
  },
  {
   "cell_type": "code",
   "execution_count": null,
   "id": "d1a0833e",
   "metadata": {},
   "outputs": [],
   "source": []
  },
  {
   "cell_type": "code",
   "execution_count": 21,
   "id": "abc1e54a",
   "metadata": {},
   "outputs": [
    {
     "name": "stdout",
     "output_type": "stream",
     "text": [
      "5298 {'_id': 1574486764064063499, 'date': {'$date': '2022-09-26T19:51:11Z'}, 'screen_name': 'trafficgifs', 'qualityScore': 0.5692307692307693, 'text': 'Stockwell Road By Clapham Road https://t.co/D6vuQFMamS', 'url': None, 'description': '🚗🚗🚗🚗🚗 bot by @fitnr', 'listed_count': 35, 'user_created': {'$date': '2016-06-23T16:22:55Z'}, 'geo_enabled': True, 'favourites_count': 1, 'coordinates': [-0.12219, 51.472], 'location': 'New York, NY', 'followers_count': 1292, ' friends_count': 1292, 'place_name': 'Lambeth, London', 'place_country': 'United Kingdom', 'country_code': 'GB', 'place_coordinates': [[[-0.15191, 51.410792], [-0.078902, 51.410792], [-0.078902, 51.509887], [-0.15191, 51.509887]]], 'hashtags': [], 'mentions': [], 'source': 'everybot'}\n"
     ]
    }
   ],
   "source": [
    "with open('data/positive_tweets.json', 'r',encoding='utf-8') as f:\n",
    "    data2 = json.load(f)\n",
    "    \n",
    "print(len(data2),data2[0])"
   ]
  },
  {
   "cell_type": "code",
   "execution_count": 22,
   "id": "bb6e1e8d",
   "metadata": {},
   "outputs": [
    {
     "data": {
      "image/png": "[encoded data removed]",
      "text/plain": [
       "<Figure size 432x288 with 2 Axes>"
      ]
     },
     "metadata": {
      "needs_background": "light"
     },
     "output_type": "display_data"
    },
    {
     "name": "stdout",
     "output_type": "stream",
     "text": [
      "Total number of tweets: 5298\n",
      "Maximum number of tweets in a single cell: 583\n",
      "Minimum number of tweets in a single cell: 1\n"
     ]
    },
    {
     "data": {
      "image/png": "[encoded data removed]",
      "text/plain": [
       "<Figure size 432x288 with 1 Axes>"
      ]
     },
     "metadata": {
      "needs_background": "light"
     },
     "output_type": "display_data"
    }
   ],
   "source": [
    "# Read the tweets and organize them into the grid\n",
    "tweet_counts = {}\n",
    "for da in data2:\n",
    "    if da.get('geo_enabled', False):\n",
    "        coord = da['coordinates']\n",
    "        grid_index = get_grid_index(coord)\n",
    "        if grid_index in tweet_counts:\n",
    "            tweet_counts[grid_index] += 1\n",
    "        else:\n",
    "            tweet_counts[grid_index] = 1\n",
    "        grid_matrix[grid_index] += 1\n",
    "# Now we have tweet counts per grid cell, let's visualize it with a heatmap\n",
    "sns.heatmap(grid_matrix, vmax=50, vmin=0)\n",
    "plt.show()\n",
    "\n",
    "# We can also calculate and print some basic statistics\n",
    "total_tweets = sum(tweet_counts.values())\n",
    "max_tweets_in_cell = max(tweet_counts.values())\n",
    "min_tweets_in_cell = min(tweet_counts.values())\n",
    "\n",
    "print(f\"Total number of tweets: {total_tweets}\")\n",
    "print(f\"Maximum number of tweets in a single cell: {max_tweets_in_cell}\")\n",
    "print(f\"Minimum number of tweets in a single cell: {min_tweets_in_cell}\")\n",
    "\n",
    "# To further analyze the data, we can plot a histogram of tweets per grid cell\n",
    "plt.hist(tweet_counts.values(), bins=50)\n",
    "plt.title('Histogram of tweets per grid cell')\n",
    "plt.xlabel('Number of tweets')\n",
    "plt.ylabel('Number of cells')\n",
    "plt.show()\n"
   ]
  },
  {
   "cell_type": "code",
   "execution_count": 23,
   "id": "352f1d6c",
   "metadata": {},
   "outputs": [
    {
     "data": {
      "image/png": "[encoded data removed]",
      "text/plain": [
       "<Figure size 432x288 with 1 Axes>"
      ]
     },
     "metadata": {
      "needs_background": "light"
     },
     "output_type": "display_data"
    },
    {
     "name": "stdout",
     "output_type": "stream",
     "text": [
      "The highest point in the histogram represents 100.0 cells.\n"
     ]
    }
   ],
   "source": [
    "n, bins, patches = plt.hist(tweet_counts.values(), bins=50)\n",
    "plt.title('Histogram of tweets per grid cell')\n",
    "plt.xlabel('Number of tweets')\n",
    "plt.ylabel('Number of cells')\n",
    "plt.show()\n",
    "\n",
    "max_count = n.max()  # Get the maximum value of the histogram bins\n",
    "print(f\"The highest point in the histogram represents {max_count} cells.\")\n"
   ]
  },
  {
   "cell_type": "code",
   "execution_count": 24,
   "id": "61118f11",
   "metadata": {},
   "outputs": [
    {
     "name": "stdout",
     "output_type": "stream",
     "text": [
      "2563 {'_id': 1574486764064063499, 'date': {'$date': '2022-09-26T19:51:11Z'}, 'screen_name': 'trafficgifs', 'qualityScore': 0.5692307692307693, 'text': 'Stockwell Road By Clapham Road https://t.co/D6vuQFMamS', 'url': None, 'description': '🚗🚗🚗🚗🚗 bot by @fitnr', 'listed_count': 35, 'user_created': {'$date': '2016-06-23T16:22:55Z'}, 'geo_enabled': True, 'favourites_count': 1, 'coordinates': [-0.12219, 51.472], 'location': 'New York, NY', 'followers_count': 1292, ' friends_count': 1292, 'place_name': 'Lambeth, London', 'place_country': 'United Kingdom', 'country_code': 'GB', 'place_coordinates': [[[-0.15191, 51.410792], [-0.078902, 51.410792], [-0.078902, 51.509887], [-0.15191, 51.509887]]], 'hashtags': [], 'mentions': [], 'source': 'everybot'}\n"
     ]
    }
   ],
   "source": [
    "with open('data/temp_positive.json', 'r',encoding='utf-8') as f:\n",
    "    data3 = json.load(f)\n",
    "    \n",
    "print(len(data3),data3[0])"
   ]
  },
  {
   "cell_type": "code",
   "execution_count": 25,
   "id": "cf1c2892",
   "metadata": {},
   "outputs": [
    {
     "data": {
      "image/png": "[encoded data removed]",
      "text/plain": [
       "<Figure size 432x288 with 2 Axes>"
      ]
     },
     "metadata": {
      "needs_background": "light"
     },
     "output_type": "display_data"
    },
    {
     "name": "stdout",
     "output_type": "stream",
     "text": [
      "Total number of tweets: 2563\n",
      "Maximum number of tweets in a single cell: 161\n",
      "Minimum number of tweets in a single cell: 1\n"
     ]
    },
    {
     "data": {
      "image/png": "[encoded data removed]",
      "text/plain": [
       "<Figure size 432x288 with 1 Axes>"
      ]
     },
     "metadata": {
      "needs_background": "light"
     },
     "output_type": "display_data"
    }
   ],
   "source": [
    "# Read the tweets and organize them into the grid\n",
    "tweet_counts = {}\n",
    "for da in data3:\n",
    "    if da.get('geo_enabled', False):\n",
    "        coord = da['coordinates']\n",
    "        grid_index = get_grid_index(coord)\n",
    "        if grid_index in tweet_counts:\n",
    "            tweet_counts[grid_index] += 1\n",
    "        else:\n",
    "            tweet_counts[grid_index] = 1\n",
    "        grid_matrix[grid_index] += 1\n",
    "# Now we have tweet counts per grid cell, let's visualize it with a heatmap\n",
    "sns.heatmap(grid_matrix, vmax=50, vmin=0)\n",
    "plt.show()\n",
    "\n",
    "# We can also calculate and print some basic statistics\n",
    "total_tweets = sum(tweet_counts.values())\n",
    "max_tweets_in_cell = max(tweet_counts.values())\n",
    "min_tweets_in_cell = min(tweet_counts.values())\n",
    "\n",
    "print(f\"Total number of tweets: {total_tweets}\")\n",
    "print(f\"Maximum number of tweets in a single cell: {max_tweets_in_cell}\")\n",
    "print(f\"Minimum number of tweets in a single cell: {min_tweets_in_cell}\")\n",
    "\n",
    "# To further analyze the data, we can plot a histogram of tweets per grid cell\n",
    "plt.hist(tweet_counts.values(), bins=50)\n",
    "plt.title('Histogram of tweets per grid cell')\n",
    "plt.xlabel('Number of tweets')\n",
    "plt.ylabel('Number of cells')\n",
    "plt.show()"
   ]
  },
  {
   "cell_type": "code",
   "execution_count": 26,
   "id": "b9c68eac",
   "metadata": {},
   "outputs": [
    {
     "data": {
      "image/png": "[encoded data removed]",
      "text/plain": [
       "<Figure size 432x288 with 1 Axes>"
      ]
     },
     "metadata": {
      "needs_background": "light"
     },
     "output_type": "display_data"
    },
    {
     "name": "stdout",
     "output_type": "stream",
     "text": [
      "The highest point in the histogram represents 65.0 cells.\n"
     ]
    }
   ],
   "source": [
    "n, bins, patches = plt.hist(tweet_counts.values(), bins=50)\n",
    "plt.title('Histogram of tweets per grid cell')\n",
    "plt.xlabel('Number of tweets')\n",
    "plt.ylabel('Number of cells')\n",
    "plt.show()\n",
    "\n",
    "max_count = n.max()  # Get the maximum value of the histogram bins\n",
    "print(f\"The highest point in the histogram represents {max_count} cells.\")\n"
   ]
  }
 ],
 "metadata": {
  "kernelspec": {
   "display_name": "Python 3 (ipykernel)",
   "language": "python",
   "name": "python3"
  },
  "language_info": {
   "codemirror_mode": {
    "name": "ipython",
    "version": 3
   },
   "file_extension": ".py",
   "mimetype": "text/x-python",
   "name": "python",
   "nbconvert_exporter": "python",
   "pygments_lexer": "ipython3",
   "version": "3.7.5"
  }
 },
 "nbformat": 4,
 "nbformat_minor": 5
}
